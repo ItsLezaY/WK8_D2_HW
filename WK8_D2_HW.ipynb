{
 "cells": [
  {
   "cell_type": "markdown",
   "id": "601c5c72",
   "metadata": {},
   "source": [
    "<a id=\"hw\"></a>\n",
    "\n",
    "## Homework"
   ]
  },
  {
   "cell_type": "markdown",
   "id": "a4361bce",
   "metadata": {},
   "source": [
    "Design a flexible OOP system to describe characters in a RPG game\n",
    "\n",
    "There are 4 Unique Characters which use Different Types of Attacking mechanisms and Defending mechanisms.\n",
    "\n",
    "- Orges - fights with club and defends with shield\n",
    "- Peons - fights with club and defends with shield\n",
    "- Knights - fights with a Sword and defends with Armor\n",
    "- Archer - fights with Bow and Arrow and has only is tunic to protect them\n",
    "\n",
    "- All Characters can collect gold and this will always be the same for every new type of character\n",
    "\n",
    "At the end of this each character should be able to attack and defend and collect gold. If needed any character should be able to change his fighting style, say if a knight losing his sword, but finds a club he should be able to change his fighting mechanism to use the club\n",
    "\n",
    "<b>Hint: </b> To complete this assignment you will need multiple classes and interfaces and an Abstract class\n",
    "\n",
    "You can use our [Final Rubber Ducky Walkthrough](#rubber) example as a guide "
   ]
  },
  {
   "cell_type": "code",
   "execution_count": 18,
   "id": "122df0f6",
   "metadata": {},
   "outputs": [],
   "source": [
    "//Solution\n",
    "\n",
    "interface Attackable {\n",
    "  attack(target: Character): void;\n",
    "}\n",
    "\n",
    "interface Defendable {\n",
    "  defend(): void;\n",
    "}\n",
    "\n",
    "interface GoldCollector {\n",
    "  collectGold(amount: number): void;\n",
    "}\n",
    "\n",
    "abstract class Character implements Attackable, Defendable, GoldCollector {\n",
    "  protected gold: number = 0;\n",
    "  protected weapon: Attackable;\n",
    "  protected defense: Defendable;\n",
    "  protected name: string;\n",
    "\n",
    "  constructor(weapon: Attackable, defense: Defendable, name: string) {\n",
    "    this.weapon = weapon;\n",
    "    this.defense = defense;\n",
    "    this.name = name;\n",
    "  }\n",
    "\n",
    "  collectGold(amount: number): void {\n",
    "    this.gold += amount;\n",
    "    console.log(`${this.name} collected ${amount} gold. Total gold: ${this.gold}`);\n",
    "  }\n",
    "\n",
    "  abstract attack(target: Character): void;\n",
    "  abstract defend(): void;\n",
    "\n",
    "  changeWeapon(newWeapon: Attackable): void {\n",
    "    this.weapon = newWeapon;\n",
    "    console.log(`${this.name} switches to ${this.weapon.constructor.name}`);\n",
    "  }\n",
    "}\n"
   ]
  },
  {
   "cell_type": "code",
   "execution_count": 19,
   "id": "dd480fc3",
   "metadata": {},
   "outputs": [],
   "source": [
    "class ShieldDefend implements Defendable {\n",
    "  defend(): void {\n",
    "    console.log(\"Defending with a shield\");\n",
    "  }\n",
    "}\n",
    "\n",
    "class ArmorDefend implements Defendable {\n",
    "  defend(): void {\n",
    "    console.log(\"Defending with armor\");\n",
    "  }\n",
    "}\n",
    "\n",
    "class TunicDefend implements Defendable {\n",
    "  defend(): void {\n",
    "    console.log(\"Defending with a tunic\");\n",
    "  }\n",
    "}\n",
    "\n",
    "class ClubAttack implements Attackable {\n",
    "  attack(target: Character): void {\n",
    "    console.log();\n",
    "  }\n",
    "}\n",
    "\n",
    "class SwordAttack implements Attackable {\n",
    "  attack(target: Character): void {\n",
    "    console.log();\n",
    "  }\n",
    "}\n",
    "\n",
    "class BowAttack implements Attackable {\n",
    "  attack(target: Character): void {\n",
    "    console.log();\n",
    "  }\n",
    "}"
   ]
  },
  {
   "cell_type": "code",
   "execution_count": 20,
   "id": "73d4d5b5",
   "metadata": {},
   "outputs": [],
   "source": [
    "class Ogre extends Character {\n",
    "  constructor() {\n",
    "    super(new ClubAttack(), new ShieldDefend(), \"Ogre\");\n",
    "  }\n",
    "\n",
    "  attack(target: Character): void {\n",
    "    console.log(`${this.name} attacks with ${this.weapon.constructor.name} at the ${target.constructor.name}`);\n",
    "  }\n",
    "\n",
    "  defend(): void {\n",
    "    console.log(`The ${this.name} defends with a shield`);\n",
    "  }\n",
    "}\n",
    "\n",
    "class Peon extends Character {\n",
    "  constructor() {\n",
    "    super(new ClubAttack(), new ShieldDefend(), \"Peon\");\n",
    "  }\n",
    "\n",
    "  attack(target: Character): void {\n",
    "    console.log(`${this.name} attacks with ${this.weapon.constructor.name} at the ${target.constructor.name}`);\n",
    "  }\n",
    "\n",
    "  defend(): void {\n",
    "    console.log(`The ${this.name} defends with a shield`);\n",
    "  }\n",
    "}\n",
    "\n",
    "class Knight extends Character {\n",
    "  constructor() {\n",
    "    super(new SwordAttack(), new ArmorDefend(), \"Knight\");\n",
    "  }\n",
    "\n",
    "  attack(target: Character): void {\n",
    "    console.log(`${this.name} attacks with ${this.weapon.constructor.name}`);\n",
    "    this.weapon.attack(target);\n",
    "  }\n",
    "\n",
    "  defend(): void {\n",
    "    console.log(`The ${this.name} defends with armor`);\n",
    "  }\n",
    "}\n",
    "\n",
    "class Archer extends Character {\n",
    "  constructor() {\n",
    "    super(new BowAttack(), new TunicDefend(), \"Archer\");\n",
    "  }\n",
    "\n",
    "  attack(target: Character): void {\n",
    "    console.log(`${this.name} attacks with Bow and Arrow`);\n",
    "  }\n",
    "\n",
    "  defend(): void {\n",
    "    console.log(`The ${this.name} defends with a tunic`);\n",
    "  }\n",
    "}"
   ]
  },
  {
   "cell_type": "code",
   "execution_count": 21,
   "id": "1853bf54",
   "metadata": {},
   "outputs": [],
   "source": [
    "let ogre = new Ogre();\n",
    "let peon = new Peon();\n",
    "let knight = new Knight();\n",
    "let archer = new Archer();"
   ]
  },
  {
   "cell_type": "code",
   "execution_count": 22,
   "id": "87ef07f2",
   "metadata": {},
   "outputs": [
    {
     "name": "stdout",
     "output_type": "stream",
     "text": [
      "Knight attacks with SwordAttack\n",
      "\n",
      "Ogre attacks with ClubAttack at the Knight\n",
      "The Knight defends with armor\n"
     ]
    }
   ],
   "source": [
    "knight.attack(ogre);\n",
    "ogre.attack(knight);\n",
    "knight.defend();"
   ]
  },
  {
   "cell_type": "code",
   "execution_count": 23,
   "id": "25e2cc09",
   "metadata": {},
   "outputs": [
    {
     "name": "stdout",
     "output_type": "stream",
     "text": [
      "Knight switches to ClubAttack\n"
     ]
    }
   ],
   "source": [
    "knight.changeWeapon(new ClubAttack()); "
   ]
  },
  {
   "cell_type": "code",
   "execution_count": 24,
   "id": "6e594bc8",
   "metadata": {},
   "outputs": [
    {
     "name": "stdout",
     "output_type": "stream",
     "text": [
      "Knight attacks with ClubAttack\n",
      "\n",
      "Knight collected 10 gold. Total gold: 10\n",
      "Peon attacks with ClubAttack at the Ogre\n",
      "The Peon defends with a shield\n"
     ]
    }
   ],
   "source": [
    "knight.attack(ogre);\n",
    "knight.collectGold(10);\n",
    "peon.attack(ogre);\n",
    "peon.defend();"
   ]
  }
 ],
 "metadata": {
  "kernelspec": {
   "display_name": "TypeScript",
   "language": "typescript",
   "name": "tslab"
  },
  "language_info": {
   "codemirror_mode": {
    "mode": "typescript",
    "name": "javascript",
    "typescript": true
   },
   "file_extension": ".ts",
   "mimetype": "text/typescript",
   "name": "typescript",
   "version": "3.7.2"
  }
 },
 "nbformat": 4,
 "nbformat_minor": 5
}
